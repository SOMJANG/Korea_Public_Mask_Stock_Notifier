{
 "cells": [
  {
   "cell_type": "code",
   "execution_count": 1,
   "metadata": {},
   "outputs": [],
   "source": [
    "from getInfoFromAPIwithGeo import makeSendMessage"
   ]
  },
  {
   "cell_type": "code",
   "execution_count": 2,
   "metadata": {},
   "outputs": [
    {
     "name": "stderr",
     "output_type": "stream",
     "text": [
      "100%|██████████| 41/41 [00:00<00:00, 73364.53it/s]\n"
     ]
    },
    {
     "data": {
      "text/plain": [
       "'판매처명 : 스마일약국\\n주소 : 서울특별시 동작구 장승배기로 110-1, (노량진동)\\n재고상태 : 30개 이상\\n재고 입고 시간 : 2020/03/15 12:53:00\\n데이터 갱신 시간 : 2020/03/15 14:10:00\\n\\n판매처명 : 보건약국\\n주소 : 서울특별시 동작구 장승배기로10길 43 (상도동)\\n재고상태 : 30개 이상\\n재고 입고 시간 : 2020/03/15 12:43:00\\n데이터 갱신 시간 : 2020/03/15 14:10:00\\n\\n판매처명 : 우리약국\\n주소 : 서울특별시 동작구 노량진로 155 (노량진동)\\n재고상태 : 2개이상 30개 미만\\n재고 입고 시간 : 2020/03/15 11:23:00\\n데이터 갱신 시간 : 2020/03/15 14:10:00\\n\\n판매처명 : 건강온누리약국\\n주소 : 서울특별시 동작구 상도로 202 (상도동)\\n재고상태 : 100개 이상\\n재고 입고 시간 : 2020/03/15 10:55:00\\n데이터 갱신 시간 : 2020/03/15 14:10:00\\n\\n판매처명 : 인화약국\\n주소 : 서울특별시 동작구 만양로 84 102,103호 (노량진동, 삼익주상복합상가)\\n재고상태 : 100개 이상\\n재고 입고 시간 : 2020/03/15 10:06:00\\n데이터 갱신 시간 : 2020/03/15 14:10:00\\n\\n판매처명 : 은성약국\\n주소 : 서울특별시 동작구 노량진로8길 3 (노량진동, 경성빌딩)\\n재고상태 : 2개이상 30개 미만\\n재고 입고 시간 : 2020/03/15 10:00:00\\n데이터 갱신 시간 : 2020/03/15 14:10:00\\n\\n판매처명 : 성약국\\n주소 : 서울특별시 동작구 상도로15길 143 (상도동)\\n재고상태 : 2개이상 30개 미만\\n재고 입고 시간 : 2020/03/15 09:13:00\\n데이터 갱신 시간 : 2020/03/15 14:10:00\\n\\n판매처명 : 신안약국\\n주소 : 서울특별시 동작구 장승배기로 139-1, (노량진동)\\n재고상태 : 2개이상 30개 미만\\n재고 입고 시간 : 2020/03/14 12:52:00\\n데이터 갱신 시간 : 2020/03/15 14:10:00\\n\\n'"
      ]
     },
     "execution_count": 2,
     "metadata": {},
     "output_type": "execute_result"
    }
   ],
   "source": [
    "lat = 37.513489 \n",
    "lng = 126.941986 \n",
    "m = 1000 \n",
    "my_message = makeSendMessage(lat, lng, m)\n",
    "my_message"
   ]
  },
  {
   "cell_type": "code",
   "execution_count": 6,
   "metadata": {},
   "outputs": [
    {
     "name": "stdout",
     "output_type": "stream",
     "text": [
      "Collecting telegram\n",
      "  Using cached https://files.pythonhosted.org/packages/9d/ca/8bdf2deb93b9f6971dabf2ddc827c2a98ce23e13582a15b37e9bc169f226/telegram-0.0.1.tar.gz\n",
      "Building wheels for collected packages: telegram\n",
      "  Building wheel for telegram (setup.py) ... \u001b[?25ldone\n",
      "\u001b[?25h  Created wheel for telegram: filename=telegram-0.0.1-cp37-none-any.whl size=1307 sha256=5cdd36b0be02a381fc9e56785f755cdf279a9ee91189353cae58bcd4874d8b63\n",
      "  Stored in directory: /Users/donghyunjang/Library/Caches/pip/wheels/21/a4/d2/c289fe2e3a3050eefb01b2f1f9ef42346272a21bc3082a4342\n",
      "Successfully built telegram\n",
      "Installing collected packages: telegram\n",
      "Successfully installed telegram-0.0.1\n",
      "\u001b[33mWARNING: You are using pip version 19.3.1; however, version 20.0.2 is available.\n",
      "You should consider upgrading via the 'pip install --upgrade pip' command.\u001b[0m\n"
     ]
    }
   ],
   "source": [
    "!pip3 install telegram"
   ]
  },
  {
   "cell_type": "code",
   "execution_count": 7,
   "metadata": {},
   "outputs": [
    {
     "name": "stdout",
     "output_type": "stream",
     "text": [
      "Collecting python-telegram-bot\n",
      "\u001b[?25l  Downloading https://files.pythonhosted.org/packages/16/5f/ab10cfacd6dba5deb7b7c3a78ddb23ae4404d6c6eb8b3c3e121668d4bf94/python_telegram_bot-12.4.2-py2.py3-none-any.whl (360kB)\n",
      "\u001b[K     |████████████████████████████████| 368kB 479kB/s eta 0:00:01\n",
      "\u001b[?25hRequirement already satisfied: certifi in /Users/donghyunjang/anaconda3/lib/python3.7/site-packages (from python-telegram-bot) (2019.9.11)\n",
      "Requirement already satisfied: decorator>=4.4.0 in /Users/donghyunjang/anaconda3/lib/python3.7/site-packages (from python-telegram-bot) (4.4.0)\n",
      "Requirement already satisfied: tornado>=5.1 in /Users/donghyunjang/anaconda3/lib/python3.7/site-packages (from python-telegram-bot) (6.0.3)\n",
      "Requirement already satisfied: future>=0.16.0 in /Users/donghyunjang/anaconda3/lib/python3.7/site-packages (from python-telegram-bot) (0.17.1)\n",
      "Requirement already satisfied: cryptography in /Users/donghyunjang/anaconda3/lib/python3.7/site-packages (from python-telegram-bot) (2.7)\n",
      "Requirement already satisfied: cffi!=1.11.3,>=1.8 in /Users/donghyunjang/anaconda3/lib/python3.7/site-packages (from cryptography->python-telegram-bot) (1.12.3)\n",
      "Requirement already satisfied: asn1crypto>=0.21.0 in /Users/donghyunjang/anaconda3/lib/python3.7/site-packages (from cryptography->python-telegram-bot) (0.24.0)\n",
      "Requirement already satisfied: six>=1.4.1 in /Users/donghyunjang/anaconda3/lib/python3.7/site-packages (from cryptography->python-telegram-bot) (1.12.0)\n",
      "Requirement already satisfied: pycparser in /Users/donghyunjang/anaconda3/lib/python3.7/site-packages (from cffi!=1.11.3,>=1.8->cryptography->python-telegram-bot) (2.19)\n",
      "Installing collected packages: python-telegram-bot\n",
      "Successfully installed python-telegram-bot-12.4.2\n",
      "\u001b[33mWARNING: You are using pip version 19.3.1; however, version 20.0.2 is available.\n",
      "You should consider upgrading via the 'pip install --upgrade pip' command.\u001b[0m\n"
     ]
    }
   ],
   "source": [
    "!pip3 install python-telegram-bot"
   ]
  },
  {
   "cell_type": "code",
   "execution_count": 3,
   "metadata": {},
   "outputs": [
    {
     "name": "stdout",
     "output_type": "stream",
     "text": [
      "{'message_id': 3, 'date': 1584244084, 'chat': {'id': 689318726, 'type': 'private', 'first_name': 'Donghyun', 'last_name': 'Jang'}, 'text': 'show stocks', 'entities': [], 'caption_entities': [], 'photo': [], 'new_chat_members': [], 'new_chat_photo': [], 'delete_chat_photo': False, 'group_chat_created': False, 'supergroup_chat_created': False, 'channel_chat_created': False, 'from': {'id': 689318726, 'first_name': 'Donghyun', 'is_bot': False, 'last_name': 'Jang', 'language_code': 'ko'}}\n"
     ]
    }
   ],
   "source": [
    "import telegram\n",
    "\n",
    "bot = telegram.Bot(token=\"token Value\")\n",
    "\n",
    "for i in bot.getUpdates():\n",
    "    print(i.message)"
   ]
  },
  {
   "cell_type": "code",
   "execution_count": 4,
   "metadata": {},
   "outputs": [
    {
     "name": "stdout",
     "output_type": "stream",
     "text": [
      "689318726\n"
     ]
    }
   ],
   "source": [
    "import telegram\n",
    "\n",
    "bot = telegram.Bot(token=\"token Value\")\n",
    "\n",
    "recent_message = []\n",
    "\n",
    "for i in bot.getUpdates():\n",
    "    recent_message = i.message\n",
    "    \n",
    "message_user_id = recent_message.chat['id']\n",
    "print(message_user_id)"
   ]
  },
  {
   "cell_type": "code",
   "execution_count": 5,
   "metadata": {},
   "outputs": [
    {
     "name": "stdout",
     "output_type": "stream",
     "text": [
      "689318726\n"
     ]
    }
   ],
   "source": [
    "print(recent_message.chat['id'])"
   ]
  },
  {
   "cell_type": "code",
   "execution_count": 6,
   "metadata": {},
   "outputs": [
    {
     "name": "stderr",
     "output_type": "stream",
     "text": [
      "100%|██████████| 41/41 [00:00<00:00, 73742.05it/s]\n"
     ]
    },
    {
     "data": {
      "text/plain": [
       "<telegram.message.Message at 0x11e258da0>"
      ]
     },
     "execution_count": 6,
     "metadata": {},
     "output_type": "execute_result"
    }
   ],
   "source": [
    "import telegram\n",
    "\n",
    "bot = telegram.Bot(token=\"token Value\")\n",
    "\n",
    "lat = 37.513489\n",
    "lng = 126.941986\n",
    "m = 1000\n",
    "\n",
    "bot.sendMessage(chat_id=message_user_id, text=makeSendMessage(lat, lng, m))"
   ]
  },
  {
   "cell_type": "code",
   "execution_count": 7,
   "metadata": {},
   "outputs": [
    {
     "name": "stdout",
     "output_type": "stream",
     "text": [
      "Collecting apscheduler\n",
      "\u001b[?25l  Downloading https://files.pythonhosted.org/packages/f3/34/9ef20ed473c4fd2c3df54ef77a27ae3fc7500b16b192add4720cab8b2c09/APScheduler-3.6.3-py2.py3-none-any.whl (58kB)\n",
      "\u001b[K     |████████████████████████████████| 61kB 400kB/s eta 0:00:01\n",
      "\u001b[?25hRequirement already satisfied: six>=1.4.0 in /Users/donghyunjang/anaconda3/lib/python3.7/site-packages (from apscheduler) (1.12.0)\n",
      "Requirement already satisfied: setuptools>=0.7 in /Users/donghyunjang/anaconda3/lib/python3.7/site-packages (from apscheduler) (42.0.2)\n",
      "Collecting tzlocal>=1.2\n",
      "  Using cached https://files.pythonhosted.org/packages/ef/99/53bd1ac9349262f59c1c421d8fcc2559ae8a5eeffed9202684756b648d33/tzlocal-2.0.0-py2.py3-none-any.whl\n",
      "Requirement already satisfied: pytz in /Users/donghyunjang/anaconda3/lib/python3.7/site-packages (from apscheduler) (2019.1)\n",
      "Installing collected packages: tzlocal, apscheduler\n",
      "Successfully installed apscheduler-3.6.3 tzlocal-2.0.0\n",
      "\u001b[33mWARNING: You are using pip version 19.3.1; however, version 20.0.2 is available.\n",
      "You should consider upgrading via the 'pip install --upgrade pip' command.\u001b[0m\n"
     ]
    }
   ],
   "source": [
    "!pip3 install apscheduler"
   ]
  },
  {
   "cell_type": "code",
   "execution_count": 12,
   "metadata": {},
   "outputs": [
    {
     "name": "stderr",
     "output_type": "stream",
     "text": [
      "100%|██████████| 41/41 [00:00<00:00, 70075.98it/s]\n",
      "100%|██████████| 41/41 [00:00<00:00, 2915.28it/s]\n",
      "100%|██████████| 41/41 [00:00<00:00, 74541.16it/s]\n",
      "100%|██████████| 41/41 [00:00<00:00, 25049.74it/s]\n",
      "100%|██████████| 41/41 [00:00<00:00, 152452.54it/s]\n",
      "100%|██████████| 41/41 [00:00<00:00, 69146.15it/s]\n",
      "100%|██████████| 41/41 [00:00<00:00, 117463.43it/s]\n",
      "100%|██████████| 41/41 [00:00<00:00, 63292.77it/s]\n"
     ]
    },
    {
     "ename": "KeyboardInterrupt",
     "evalue": "",
     "output_type": "error",
     "traceback": [
      "\u001b[0;31m---------------------------------------------------------------------------\u001b[0m",
      "\u001b[0;31mKeyboardInterrupt\u001b[0m                         Traceback (most recent call last)",
      "\u001b[0;32m<ipython-input-12-c9d4b0a5b57d>\u001b[0m in \u001b[0;36m<module>\u001b[0;34m\u001b[0m\n\u001b[1;32m     19\u001b[0m \u001b[0msched\u001b[0m \u001b[0;34m=\u001b[0m \u001b[0mBlockingScheduler\u001b[0m\u001b[0;34m(\u001b[0m\u001b[0;34m{\u001b[0m\u001b[0;34m'apscheduler.timezone'\u001b[0m\u001b[0;34m:\u001b[0m\u001b[0;34m'UTC'\u001b[0m\u001b[0;34m}\u001b[0m\u001b[0;34m)\u001b[0m\u001b[0;34m\u001b[0m\u001b[0;34m\u001b[0m\u001b[0m\n\u001b[1;32m     20\u001b[0m \u001b[0msched\u001b[0m\u001b[0;34m.\u001b[0m\u001b[0madd_job\u001b[0m\u001b[0;34m(\u001b[0m\u001b[0msendStockStateMessage\u001b[0m\u001b[0;34m,\u001b[0m \u001b[0;34m'interval'\u001b[0m\u001b[0;34m,\u001b[0m \u001b[0mseconds\u001b[0m\u001b[0;34m=\u001b[0m\u001b[0;36m5\u001b[0m\u001b[0;34m)\u001b[0m\u001b[0;34m\u001b[0m\u001b[0;34m\u001b[0m\u001b[0m\n\u001b[0;32m---> 21\u001b[0;31m \u001b[0msched\u001b[0m\u001b[0;34m.\u001b[0m\u001b[0mstart\u001b[0m\u001b[0;34m(\u001b[0m\u001b[0;34m)\u001b[0m\u001b[0;34m\u001b[0m\u001b[0;34m\u001b[0m\u001b[0m\n\u001b[0m",
      "\u001b[0;32m~/anaconda3/lib/python3.7/site-packages/apscheduler/schedulers/blocking.py\u001b[0m in \u001b[0;36mstart\u001b[0;34m(self, *args, **kwargs)\u001b[0m\n\u001b[1;32m     17\u001b[0m         \u001b[0mself\u001b[0m\u001b[0;34m.\u001b[0m\u001b[0m_event\u001b[0m \u001b[0;34m=\u001b[0m \u001b[0mEvent\u001b[0m\u001b[0;34m(\u001b[0m\u001b[0;34m)\u001b[0m\u001b[0;34m\u001b[0m\u001b[0;34m\u001b[0m\u001b[0m\n\u001b[1;32m     18\u001b[0m         \u001b[0msuper\u001b[0m\u001b[0;34m(\u001b[0m\u001b[0mBlockingScheduler\u001b[0m\u001b[0;34m,\u001b[0m \u001b[0mself\u001b[0m\u001b[0;34m)\u001b[0m\u001b[0;34m.\u001b[0m\u001b[0mstart\u001b[0m\u001b[0;34m(\u001b[0m\u001b[0;34m*\u001b[0m\u001b[0margs\u001b[0m\u001b[0;34m,\u001b[0m \u001b[0;34m**\u001b[0m\u001b[0mkwargs\u001b[0m\u001b[0;34m)\u001b[0m\u001b[0;34m\u001b[0m\u001b[0;34m\u001b[0m\u001b[0m\n\u001b[0;32m---> 19\u001b[0;31m         \u001b[0mself\u001b[0m\u001b[0;34m.\u001b[0m\u001b[0m_main_loop\u001b[0m\u001b[0;34m(\u001b[0m\u001b[0;34m)\u001b[0m\u001b[0;34m\u001b[0m\u001b[0;34m\u001b[0m\u001b[0m\n\u001b[0m\u001b[1;32m     20\u001b[0m \u001b[0;34m\u001b[0m\u001b[0m\n\u001b[1;32m     21\u001b[0m     \u001b[0;32mdef\u001b[0m \u001b[0mshutdown\u001b[0m\u001b[0;34m(\u001b[0m\u001b[0mself\u001b[0m\u001b[0;34m,\u001b[0m \u001b[0mwait\u001b[0m\u001b[0;34m=\u001b[0m\u001b[0;32mTrue\u001b[0m\u001b[0;34m)\u001b[0m\u001b[0;34m:\u001b[0m\u001b[0;34m\u001b[0m\u001b[0;34m\u001b[0m\u001b[0m\n",
      "\u001b[0;32m~/anaconda3/lib/python3.7/site-packages/apscheduler/schedulers/blocking.py\u001b[0m in \u001b[0;36m_main_loop\u001b[0;34m(self)\u001b[0m\n\u001b[1;32m     26\u001b[0m         \u001b[0mwait_seconds\u001b[0m \u001b[0;34m=\u001b[0m \u001b[0mTIMEOUT_MAX\u001b[0m\u001b[0;34m\u001b[0m\u001b[0;34m\u001b[0m\u001b[0m\n\u001b[1;32m     27\u001b[0m         \u001b[0;32mwhile\u001b[0m \u001b[0mself\u001b[0m\u001b[0;34m.\u001b[0m\u001b[0mstate\u001b[0m \u001b[0;34m!=\u001b[0m \u001b[0mSTATE_STOPPED\u001b[0m\u001b[0;34m:\u001b[0m\u001b[0;34m\u001b[0m\u001b[0;34m\u001b[0m\u001b[0m\n\u001b[0;32m---> 28\u001b[0;31m             \u001b[0mself\u001b[0m\u001b[0;34m.\u001b[0m\u001b[0m_event\u001b[0m\u001b[0;34m.\u001b[0m\u001b[0mwait\u001b[0m\u001b[0;34m(\u001b[0m\u001b[0mwait_seconds\u001b[0m\u001b[0;34m)\u001b[0m\u001b[0;34m\u001b[0m\u001b[0;34m\u001b[0m\u001b[0m\n\u001b[0m\u001b[1;32m     29\u001b[0m             \u001b[0mself\u001b[0m\u001b[0;34m.\u001b[0m\u001b[0m_event\u001b[0m\u001b[0;34m.\u001b[0m\u001b[0mclear\u001b[0m\u001b[0;34m(\u001b[0m\u001b[0;34m)\u001b[0m\u001b[0;34m\u001b[0m\u001b[0;34m\u001b[0m\u001b[0m\n\u001b[1;32m     30\u001b[0m             \u001b[0mwait_seconds\u001b[0m \u001b[0;34m=\u001b[0m \u001b[0mself\u001b[0m\u001b[0;34m.\u001b[0m\u001b[0m_process_jobs\u001b[0m\u001b[0;34m(\u001b[0m\u001b[0;34m)\u001b[0m\u001b[0;34m\u001b[0m\u001b[0;34m\u001b[0m\u001b[0m\n",
      "\u001b[0;32m~/anaconda3/lib/python3.7/threading.py\u001b[0m in \u001b[0;36mwait\u001b[0;34m(self, timeout)\u001b[0m\n\u001b[1;32m    550\u001b[0m             \u001b[0msignaled\u001b[0m \u001b[0;34m=\u001b[0m \u001b[0mself\u001b[0m\u001b[0;34m.\u001b[0m\u001b[0m_flag\u001b[0m\u001b[0;34m\u001b[0m\u001b[0;34m\u001b[0m\u001b[0m\n\u001b[1;32m    551\u001b[0m             \u001b[0;32mif\u001b[0m \u001b[0;32mnot\u001b[0m \u001b[0msignaled\u001b[0m\u001b[0;34m:\u001b[0m\u001b[0;34m\u001b[0m\u001b[0;34m\u001b[0m\u001b[0m\n\u001b[0;32m--> 552\u001b[0;31m                 \u001b[0msignaled\u001b[0m \u001b[0;34m=\u001b[0m \u001b[0mself\u001b[0m\u001b[0;34m.\u001b[0m\u001b[0m_cond\u001b[0m\u001b[0;34m.\u001b[0m\u001b[0mwait\u001b[0m\u001b[0;34m(\u001b[0m\u001b[0mtimeout\u001b[0m\u001b[0;34m)\u001b[0m\u001b[0;34m\u001b[0m\u001b[0;34m\u001b[0m\u001b[0m\n\u001b[0m\u001b[1;32m    553\u001b[0m             \u001b[0;32mreturn\u001b[0m \u001b[0msignaled\u001b[0m\u001b[0;34m\u001b[0m\u001b[0;34m\u001b[0m\u001b[0m\n\u001b[1;32m    554\u001b[0m \u001b[0;34m\u001b[0m\u001b[0m\n",
      "\u001b[0;32m~/anaconda3/lib/python3.7/threading.py\u001b[0m in \u001b[0;36mwait\u001b[0;34m(self, timeout)\u001b[0m\n\u001b[1;32m    298\u001b[0m             \u001b[0;32melse\u001b[0m\u001b[0;34m:\u001b[0m\u001b[0;34m\u001b[0m\u001b[0;34m\u001b[0m\u001b[0m\n\u001b[1;32m    299\u001b[0m                 \u001b[0;32mif\u001b[0m \u001b[0mtimeout\u001b[0m \u001b[0;34m>\u001b[0m \u001b[0;36m0\u001b[0m\u001b[0;34m:\u001b[0m\u001b[0;34m\u001b[0m\u001b[0;34m\u001b[0m\u001b[0m\n\u001b[0;32m--> 300\u001b[0;31m                     \u001b[0mgotit\u001b[0m \u001b[0;34m=\u001b[0m \u001b[0mwaiter\u001b[0m\u001b[0;34m.\u001b[0m\u001b[0macquire\u001b[0m\u001b[0;34m(\u001b[0m\u001b[0;32mTrue\u001b[0m\u001b[0;34m,\u001b[0m \u001b[0mtimeout\u001b[0m\u001b[0;34m)\u001b[0m\u001b[0;34m\u001b[0m\u001b[0;34m\u001b[0m\u001b[0m\n\u001b[0m\u001b[1;32m    301\u001b[0m                 \u001b[0;32melse\u001b[0m\u001b[0;34m:\u001b[0m\u001b[0;34m\u001b[0m\u001b[0;34m\u001b[0m\u001b[0m\n\u001b[1;32m    302\u001b[0m                     \u001b[0mgotit\u001b[0m \u001b[0;34m=\u001b[0m \u001b[0mwaiter\u001b[0m\u001b[0;34m.\u001b[0m\u001b[0macquire\u001b[0m\u001b[0;34m(\u001b[0m\u001b[0;32mFalse\u001b[0m\u001b[0;34m)\u001b[0m\u001b[0;34m\u001b[0m\u001b[0;34m\u001b[0m\u001b[0m\n",
      "\u001b[0;31mKeyboardInterrupt\u001b[0m: "
     ]
    }
   ],
   "source": [
    "import telegram\n",
    "from apscheduler.schedulers.blocking import BlockingScheduler\n",
    "\n",
    "bot = telegram.Bot(token=\"token Value\")\n",
    "\n",
    "def sendStockStateMessage():\n",
    "    lat = 37.513489\n",
    "    lng = 126.941986\n",
    "    m = 1000\n",
    "    \n",
    "    bot.sendMessage(chat_id=message_user_id, text=makeSendMessage(lat, lng, m))\n",
    "    count = count + 1\n",
    "    \n",
    "sched = BlockingScheduler({'apscheduler.timezone':'UTC'})\n",
    "sched.add_job(sendStockStateMessage, 'interval', seconds=5)\n",
    "sched.start()"
   ]
  }
 ],
 "metadata": {
  "kernelspec": {
   "display_name": "Python 3",
   "language": "python",
   "name": "python3"
  },
  "language_info": {
   "codemirror_mode": {
    "name": "ipython",
    "version": 3
   },
   "file_extension": ".py",
   "mimetype": "text/x-python",
   "name": "python",
   "nbconvert_exporter": "python",
   "pygments_lexer": "ipython3",
   "version": "3.7.3"
  }
 },
 "nbformat": 4,
 "nbformat_minor": 2
}
